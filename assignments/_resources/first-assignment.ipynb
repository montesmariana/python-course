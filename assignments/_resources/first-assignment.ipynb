{
 "cells": [
  {
   "cell_type": "markdown",
   "id": "693eb19c",
   "metadata": {},
   "source": [
    "# Describe some books from a shelf\n",
    "\n",
    "This notebook defines some classes and instantiates them based on a list of dictionaries. Each dictionary represents a book and has some information that will be printed in a descriptive format.\n",
    "The class `Book` is used to represent books in general, whereas its subclass `DiscWorldBook` is used to specifically represent books from the Discworld series. This subclass always has \"Terry Pratchett\" as the value of the `.author` attribute and, in addition, has a `series = \"Discworld\"` class attribute and a `subseries` instance attribute.\n",
    "\n",
    "Each dictionary has the following keys:\n",
    "    \n",
    "- \"title\" (a string) indicates the book title\n",
    "- \"author\" (a string) indicates the author of the book\n",
    "- \"year\" (an integer) indicates the publication year\n",
    "- \"language\" (a string) indicates the language of the book\n",
    "- \"main_characters\" (a list of strings) lists the names of the main characters.\n",
    "    \n",
    "In one case, the language is not \"English\" and there are no characters.\n",
    "In addition, Discworld books also have a \"subseries\" key.\n",
    "We can use this information to distinguish which books should be turned\n",
    "into instances of `DiscWorldBook` and which into instances of `Book`."
   ]
  },
  {
   "cell_type": "markdown",
   "id": "d013fc6d",
   "metadata": {},
   "source": [
    "## Definitions\n",
    "\n",
    "First we have to make the necessary packages available."
   ]
  },
  {
   "cell_type": "code",
   "execution_count": 1,
   "id": "546f9c9a",
   "metadata": {},
   "outputs": [],
   "source": [
    "import json # json package to read the json file\n",
    "from datetime import date # date module of datetime package to get current year"
   ]
  },
  {
   "cell_type": "markdown",
   "id": "5175f7a0",
   "metadata": {},
   "source": [
    "Then we define the `Book` class.\n",
    "\n",
    "It has a class attribute `language` set to the default value \"English\", three attributes provided via initialization (`title`, `author` and `year`, which are self-explanatory) and two attributes created at initialization: `age`, computed from `year` and the current date, and `characters`, which starts as an empty set.\n",
    "\n",
    "The class also has two methods next to the constructor and the printing method: `get_age()`, which prints the age of the book at present, and `add_character(name)`, which adds the name of a character (a string) to the set of characters.\n",
    "\n",
    "The printing method returns a text that describes the book based on all these attributes."
   ]
  },
  {
   "cell_type": "code",
   "execution_count": 2,
   "id": "d451897b",
   "metadata": {},
   "outputs": [],
   "source": [
    "class Book:\n",
    "    language = \"English\" # class attribute\n",
    "\n",
    "    def __init__(self, title, author, year):\n",
    "        \"\"\"Instantiate \n",
    "\n",
    "        Args:\n",
    "            title (str): Title of the book\n",
    "            author (str): Author of the book\n",
    "            year (int): Publication year\n",
    "        \"\"\"\n",
    "        self.title = title\n",
    "        self.author = author\n",
    "        self.year = year\n",
    "        \n",
    "        this_year = date.today().year # current year\n",
    "        self.age = this_year - self.year # difference between current year and publication year\n",
    "\n",
    "        self.characters = set() # starting set for characters\n",
    "        # this is a set to make sure only unique names are captured\n",
    "\n",
    "    def get_age(self):\n",
    "        \"\"\"Print a text indicating the age of the book.\n",
    "\n",
    "        Returns:\n",
    "            str: Text with the age of the book.\n",
    "        \"\"\"\n",
    "        if self.age < 0:\n",
    "            # if the publication date is in the future\n",
    "            return f\"This book will be published in {-self.age} years.\"\n",
    "        else:\n",
    "            # if the publication date is not in the future\n",
    "            return f\"This book is {self.age} years old.\"\n",
    "\n",
    "    def add_character(self, name):\n",
    "        \"\"\"Add a character to the list of characters.\n",
    "\n",
    "        Args:\n",
    "            name (str): Name of the character to add.\n",
    "        \"\"\"\n",
    "        self.characters.add(name) # add the character name to the set of characters\n",
    "\n",
    "    def __str__(self):\n",
    "        \"\"\"Define `print()` behavior.\n",
    "\n",
    "        Returns:\n",
    "            str: Text describing different attributes of the book.\n",
    "        \"\"\"\n",
    "        sent_1 = f\"{self.title} was written by {self.author} in {self.language}.\"\n",
    "        sent_2 = f\"It was published in {self.year}, that is, {self.age} years ago.\"\n",
    "        # the if statement considers whether any characters have been added\n",
    "        if len(self.characters) > 0:\n",
    "            sent_3 = f\"The main characters are: {', '.join(self.characters)}.\"\n",
    "        else:\n",
    "            sent_3 = \"\"\n",
    "        # print each sentence in a different line\n",
    "        return \"\\n\".join([sent_1, sent_2, sent_3])"
   ]
  },
  {
   "cell_type": "markdown",
   "id": "d246623e",
   "metadata": {},
   "source": [
    "Once we have defined the main class, we can also define its subclass, `DiscWorldBook`. As mentioned before, it adds a class attribute `series` which is set to \"Discworld\", fixes the `author` to \"Terry Pratchett\" and adds an instance attribute `subseries` that starts as an empty string.\n",
    "\n",
    "The `set_subseries(subseries)` method takes a string as argument and sets the `subseries` attribute to the value of that string.\n",
    "\n",
    "The printing method extends the printing method of the `Book` class by printing an additional sentence about the subseries if it has been defined."
   ]
  },
  {
   "cell_type": "code",
   "execution_count": 3,
   "id": "eb8d3e28",
   "metadata": {},
   "outputs": [],
   "source": [
    "class DiscWorldBook(Book):\n",
    "    series = \"Discworld\" # class attribute\n",
    "\n",
    "    def __init__(self, title, year):\n",
    "        \"\"\"Instantiate the DiscWorldBook class.\n",
    "        \n",
    "        Args:\n",
    "            title (str): Title of the book\n",
    "            year (int): Publication year\n",
    "        \"\"\"\n",
    "        super().__init__(title, \"Terry Pratchett\", year) # instantiate parent class\n",
    "        self.subseries = \"\" # start empty subseries attribute\n",
    "\n",
    "    def set_subseries(self, subseries):\n",
    "        \"\"\"Define the subseries that the book belongs to.\n",
    "\n",
    "        Args:\n",
    "            subseries (str): Name of the subseries.\n",
    "        \"\"\"\n",
    "        self.subseries = subseries # change the value of the subseries attribute\n",
    "    \n",
    "    def __str__(self):\n",
    "        \"\"\"Define behavior of print().\n",
    "\n",
    "        Returns:\n",
    "            str: Description of the book, including the subseries.\n",
    "        \"\"\"\n",
    "        parent = super().__str__() # retrieve the parent method output\n",
    "        # add a sentence if the subseries name has been defined\n",
    "        if self.subseries:\n",
    "            return parent + f'\\nThis book belongs to the \"{self.subseries}\" subseries of {self.series}.'\n",
    "        else:\n",
    "            return parent"
   ]
  },
  {
   "cell_type": "markdown",
   "id": "a5dd1dfc",
   "metadata": {},
   "source": [
    "## Explorations\n",
    "The code below illustrates the methods and attributes of the `Book` and `DiscWorldBook` classes.\n",
    "\n",
    "### A `Book`\n",
    "\n",
    "First we'll instantiate a `Book` in the variable `my_book`. The title will be \"All Systems Red\", with author \"Martha Wells\", published in 2017. This information is then coded as the attributes `.title`, `.author` and `.year` respectively."
   ]
  },
  {
   "cell_type": "code",
   "execution_count": 4,
   "id": "1713c3fa",
   "metadata": {},
   "outputs": [
    {
     "data": {
      "text/plain": [
       "'All systems red'"
      ]
     },
     "execution_count": 4,
     "metadata": {},
     "output_type": "execute_result"
    }
   ],
   "source": [
    "my_book = Book('All systems red', 'Martha Wells', 2017)\n",
    "my_book.title"
   ]
  },
  {
   "cell_type": "code",
   "execution_count": 5,
   "id": "99512695",
   "metadata": {},
   "outputs": [
    {
     "data": {
      "text/plain": [
       "'Martha Wells'"
      ]
     },
     "execution_count": 5,
     "metadata": {},
     "output_type": "execute_result"
    }
   ],
   "source": [
    "my_book.author"
   ]
  },
  {
   "cell_type": "code",
   "execution_count": 6,
   "id": "3f96367e",
   "metadata": {},
   "outputs": [
    {
     "data": {
      "text/plain": [
       "2017"
      ]
     },
     "execution_count": 6,
     "metadata": {},
     "output_type": "execute_result"
    }
   ],
   "source": [
    "my_book.year"
   ]
  },
  {
   "cell_type": "markdown",
   "id": "c20950dc",
   "metadata": {},
   "source": [
    "In addition, we can retrieve the class attribute `.language` with its default value."
   ]
  },
  {
   "cell_type": "code",
   "execution_count": 7,
   "id": "9146215c",
   "metadata": {},
   "outputs": [
    {
     "data": {
      "text/plain": [
       "'English'"
      ]
     },
     "execution_count": 7,
     "metadata": {},
     "output_type": "execute_result"
    }
   ],
   "source": [
    "my_book.language"
   ]
  },
  {
   "cell_type": "markdown",
   "id": "68b04dcf",
   "metadata": {},
   "source": [
    "Moreover, on initialization the `.age` is computed based on the current year."
   ]
  },
  {
   "cell_type": "code",
   "execution_count": 8,
   "id": "8d5d9869",
   "metadata": {},
   "outputs": [
    {
     "data": {
      "text/plain": [
       "6"
      ]
     },
     "execution_count": 8,
     "metadata": {},
     "output_type": "execute_result"
    }
   ],
   "source": [
    "my_book.age"
   ]
  },
  {
   "cell_type": "markdown",
   "id": "f6117a1e",
   "metadata": {},
   "source": [
    "We can print a message about the age with the `.get_age()` method, which takes no arguments."
   ]
  },
  {
   "cell_type": "code",
   "execution_count": 9,
   "id": "eac298bf",
   "metadata": {},
   "outputs": [
    {
     "data": {
      "text/plain": [
       "'This book is 6 years old.'"
      ]
     },
     "execution_count": 9,
     "metadata": {},
     "output_type": "execute_result"
    }
   ],
   "source": [
    "my_book.get_age()"
   ]
  },
  {
   "cell_type": "markdown",
   "id": "9b21c83f",
   "metadata": {},
   "source": [
    "If we print the object we obtain a description with all present information."
   ]
  },
  {
   "cell_type": "code",
   "execution_count": 10,
   "id": "b8447698",
   "metadata": {},
   "outputs": [
    {
     "name": "stdout",
     "output_type": "stream",
     "text": [
      "All systems red was written by Martha Wells in English.\n",
      "It was published in 2017, that is, 6 years ago.\n",
      "\n"
     ]
    }
   ],
   "source": [
    "print(my_book)"
   ]
  },
  {
   "cell_type": "markdown",
   "id": "a899e6b4",
   "metadata": {},
   "source": [
    "If we add characters, the description includes them."
   ]
  },
  {
   "cell_type": "code",
   "execution_count": 11,
   "id": "6e7adf45",
   "metadata": {},
   "outputs": [
    {
     "name": "stdout",
     "output_type": "stream",
     "text": [
      "All systems red was written by Martha Wells in English.\n",
      "It was published in 2017, that is, 6 years ago.\n",
      "The main characters are: Murderbot.\n"
     ]
    }
   ],
   "source": [
    "my_book.add_character('Murderbot')\n",
    "print(my_book)"
   ]
  },
  {
   "cell_type": "code",
   "execution_count": 12,
   "id": "291997a0",
   "metadata": {},
   "outputs": [
    {
     "data": {
      "text/plain": [
       "{'Mensah', 'Murderbot'}"
      ]
     },
     "execution_count": 12,
     "metadata": {},
     "output_type": "execute_result"
    }
   ],
   "source": [
    "my_book.add_character('Mensah')\n",
    "my_book.characters"
   ]
  },
  {
   "cell_type": "code",
   "execution_count": 13,
   "id": "aade8225",
   "metadata": {},
   "outputs": [
    {
     "name": "stdout",
     "output_type": "stream",
     "text": [
      "All systems red was written by Martha Wells in English.\n",
      "It was published in 2017, that is, 6 years ago.\n",
      "The main characters are: Mensah, Murderbot.\n"
     ]
    }
   ],
   "source": [
    "print(my_book)"
   ]
  },
  {
   "cell_type": "markdown",
   "id": "766d9c24",
   "metadata": {},
   "source": [
    "### A `DiscWorldBook`\n",
    "\n",
    "The class `DiscWorldBook` only requires a title and year for instantiation, since the author is already defined. We'll illustrate by assigning a `DiscWorldBook` to the `dw_book` variable."
   ]
  },
  {
   "cell_type": "code",
   "execution_count": 14,
   "id": "03fd9a58",
   "metadata": {},
   "outputs": [
    {
     "data": {
      "text/plain": [
       "'Terry Pratchett'"
      ]
     },
     "execution_count": 14,
     "metadata": {},
     "output_type": "execute_result"
    }
   ],
   "source": [
    "dw_book = DiscWorldBook('Small Gods', 1992)\n",
    "dw_book.author"
   ]
  },
  {
   "cell_type": "code",
   "execution_count": 15,
   "id": "b84d2031",
   "metadata": {},
   "outputs": [
    {
     "data": {
      "text/plain": [
       "'Small Gods'"
      ]
     },
     "execution_count": 15,
     "metadata": {},
     "output_type": "execute_result"
    }
   ],
   "source": [
    "dw_book.title"
   ]
  },
  {
   "cell_type": "code",
   "execution_count": 16,
   "id": "ebae74c6",
   "metadata": {},
   "outputs": [
    {
     "data": {
      "text/plain": [
       "1992"
      ]
     },
     "execution_count": 16,
     "metadata": {},
     "output_type": "execute_result"
    }
   ],
   "source": [
    "dw_book.year"
   ]
  },
  {
   "cell_type": "markdown",
   "id": "363e502c",
   "metadata": {},
   "source": [
    "The class also inherits the methods and attributes discussed above for its parent class, `Book`."
   ]
  },
  {
   "cell_type": "code",
   "execution_count": 17,
   "id": "96843ab9",
   "metadata": {},
   "outputs": [
    {
     "data": {
      "text/plain": [
       "'English'"
      ]
     },
     "execution_count": 17,
     "metadata": {},
     "output_type": "execute_result"
    }
   ],
   "source": [
    "dw_book.language"
   ]
  },
  {
   "cell_type": "code",
   "execution_count": 18,
   "id": "d835417d",
   "metadata": {},
   "outputs": [
    {
     "data": {
      "text/plain": [
       "31"
      ]
     },
     "execution_count": 18,
     "metadata": {},
     "output_type": "execute_result"
    }
   ],
   "source": [
    "dw_book.age"
   ]
  },
  {
   "cell_type": "code",
   "execution_count": 19,
   "id": "ee935ea8",
   "metadata": {},
   "outputs": [
    {
     "data": {
      "text/plain": [
       "'This book is 31 years old.'"
      ]
     },
     "execution_count": 19,
     "metadata": {},
     "output_type": "execute_result"
    }
   ],
   "source": [
    "dw_book.get_age()"
   ]
  },
  {
   "cell_type": "code",
   "execution_count": 20,
   "id": "5f9a4b42",
   "metadata": {},
   "outputs": [
    {
     "name": "stdout",
     "output_type": "stream",
     "text": [
      "Small Gods was written by Terry Pratchett in English.\n",
      "It was published in 1992, that is, 31 years ago.\n",
      "\n"
     ]
    }
   ],
   "source": [
    "print(dw_book)"
   ]
  },
  {
   "cell_type": "code",
   "execution_count": 21,
   "id": "1821cfff",
   "metadata": {},
   "outputs": [
    {
     "name": "stdout",
     "output_type": "stream",
     "text": [
      "Small Gods was written by Terry Pratchett in English.\n",
      "It was published in 1992, that is, 31 years ago.\n",
      "The main characters are: Brutha, Om.\n"
     ]
    }
   ],
   "source": [
    "dw_book.add_character('Om')\n",
    "dw_book.add_character('Brutha')\n",
    "print(dw_book)"
   ]
  },
  {
   "cell_type": "markdown",
   "id": "31a37565",
   "metadata": {},
   "source": [
    "Additionally, it has a class attribute `.series` that defaults to \"Discworld\" and an instance attribute `.subseries` that starts empty and can be set with `.set_subseries()`. Providing the value of `.subseries` affects the print output."
   ]
  },
  {
   "cell_type": "code",
   "execution_count": 22,
   "id": "67a6dfdd",
   "metadata": {},
   "outputs": [
    {
     "data": {
      "text/plain": [
       "'Discworld'"
      ]
     },
     "execution_count": 22,
     "metadata": {},
     "output_type": "execute_result"
    }
   ],
   "source": [
    "dw_book.series"
   ]
  },
  {
   "cell_type": "code",
   "execution_count": 23,
   "id": "cb5a6266",
   "metadata": {},
   "outputs": [
    {
     "data": {
      "text/plain": [
       "'Gods'"
      ]
     },
     "execution_count": 23,
     "metadata": {},
     "output_type": "execute_result"
    }
   ],
   "source": [
    "dw_book.set_subseries('Gods')\n",
    "dw_book.subseries"
   ]
  },
  {
   "cell_type": "code",
   "execution_count": 24,
   "id": "8462f8da",
   "metadata": {},
   "outputs": [
    {
     "name": "stdout",
     "output_type": "stream",
     "text": [
      "Small Gods was written by Terry Pratchett in English.\n",
      "It was published in 1992, that is, 31 years ago.\n",
      "The main characters are: Brutha, Om.\n",
      "This book belongs to the \"Gods\" subseries of Discworld.\n"
     ]
    }
   ],
   "source": [
    "print(dw_book)"
   ]
  },
  {
   "cell_type": "markdown",
   "id": "4949259a",
   "metadata": {},
   "source": [
    "### Validation\n",
    "\n",
    "The class definitions contain some `if`-statements to deal with missing data, such as adapting the printing method to whether the `.characters` attribute has any items and whether `.subseries` has been defined.\n",
    "There is currently no validation of the type of the attributes provided to the constructor or other methods. In most cases, unexpected input will throw an error. One exception is the situation where the publication year is in the future. In that case, the `Book` class can deal with it."
   ]
  },
  {
   "cell_type": "code",
   "execution_count": 25,
   "id": "9e68b058",
   "metadata": {},
   "outputs": [
    {
     "data": {
      "text/plain": [
       "2029"
      ]
     },
     "execution_count": 25,
     "metadata": {},
     "output_type": "execute_result"
    }
   ],
   "source": [
    "future_book = Book('Some title', 'Jane Doe', 2029)\n",
    "future_book.year"
   ]
  },
  {
   "cell_type": "markdown",
   "id": "77e2b244",
   "metadata": {},
   "source": [
    "The age will be negative and the statement printed by `.get_age()` will adapt."
   ]
  },
  {
   "cell_type": "code",
   "execution_count": 26,
   "id": "f1927e82",
   "metadata": {},
   "outputs": [
    {
     "data": {
      "text/plain": [
       "-6"
      ]
     },
     "execution_count": 26,
     "metadata": {},
     "output_type": "execute_result"
    }
   ],
   "source": [
    "future_book.age"
   ]
  },
  {
   "cell_type": "code",
   "execution_count": 27,
   "id": "84be0618",
   "metadata": {},
   "outputs": [
    {
     "data": {
      "text/plain": [
       "'This book will be published in 6 years.'"
      ]
     },
     "execution_count": 27,
     "metadata": {},
     "output_type": "execute_result"
    }
   ],
   "source": [
    "future_book.get_age()"
   ]
  },
  {
   "cell_type": "markdown",
   "id": "810edde6",
   "metadata": {},
   "source": [
    "The output of printing the object is not that elegant."
   ]
  },
  {
   "cell_type": "code",
   "execution_count": 28,
   "id": "1471cd2a",
   "metadata": {},
   "outputs": [
    {
     "name": "stdout",
     "output_type": "stream",
     "text": [
      "Some title was written by Jane Doe in English.\n",
      "It was published in 2029, that is, -6 years ago.\n",
      "\n"
     ]
    }
   ],
   "source": [
    "print(future_book)"
   ]
  },
  {
   "cell_type": "markdown",
   "id": "faf3c137",
   "metadata": {},
   "source": [
    "## Final printing\n",
    "With the classes defined, we can retrieve a list of dictionaries from a file, turn them into `Book` or `DiscWorldBook` instances and print their descriptions. The file \"books.json\" contains such a list of dictionaries, following the pattern described above. We parse it and store it in the `books` variable."
   ]
  },
  {
   "cell_type": "code",
   "execution_count": 29,
   "id": "e07d13e2",
   "metadata": {},
   "outputs": [],
   "source": [
    "books_file = 'books.json' # assign filename to a string variable\n",
    "with open(books_file, encoding = 'utf-8') as f:\n",
    "    # open file and use json to parse it\n",
    "    books = json.load(f) # books is now a list of dictionaries.    "
   ]
  },
  {
   "attachments": {},
   "cell_type": "markdown",
   "id": "4dcb9323",
   "metadata": {},
   "source": [
    "Finally, we go through each of the items in the list, turn them into `Book` or `DiscWorldBook` instances depending on the presence of `subseries` among the keys, and print them."
   ]
  },
  {
   "cell_type": "code",
   "execution_count": 30,
   "id": "91d10cf0",
   "metadata": {},
   "outputs": [
    {
     "name": "stdout",
     "output_type": "stream",
     "text": [
      "A hat full of sky was written by Terry Pratchett in English.\n",
      "It was published in 2004, that is, 19 years ago.\n",
      "The main characters are: Granny Weatherwax, Tiffany Aching, Rob Anybody.\n",
      "This book belongs to the \"Tiffany Aching\" subseries of Discworld.\n",
      "----\n",
      "Small gods was written by Terry Pratchett in English.\n",
      "It was published in 1992, that is, 31 years ago.\n",
      "The main characters are: Brutha, Om.\n",
      "This book belongs to the \"Gods\" subseries of Discworld.\n",
      "----\n",
      "The color of magic was written by Terry Pratchett in English.\n",
      "It was published in 1983, that is, 40 years ago.\n",
      "The main characters are: Rincewind, Twoflower.\n",
      "This book belongs to the \"Unseen University\" subseries of Discworld.\n",
      "----\n",
      "The shepherd's crown was written by Terry Pratchett in English.\n",
      "It was published in 2015, that is, 8 years ago.\n",
      "The main characters are: Tiffany Aching, Nightshade, Peaseblossom.\n",
      "This book belongs to the \"Tiffany Aching\" subseries of Discworld.\n",
      "----\n",
      "All systems red was written by Martha Wells in English.\n",
      "It was published in 2017, that is, 6 years ago.\n",
      "The main characters are: Dr. Mensah, Arada, Murderbot.\n",
      "----\n",
      "El libro de los abrazos was written by Eduardo Galeano in Spanish.\n",
      "It was published in 1989, that is, 34 years ago.\n",
      "\n",
      "----\n"
     ]
    }
   ],
   "source": [
    "# go through each of the items in the list\n",
    "for book in books:\n",
    "    # if there is a 'subseries' key, it is a Discworld book\n",
    "    if 'subseries' in book:\n",
    "        # create a DiscWorldBook instance with just the title and publication year\n",
    "        my_book = DiscWorldBook(book['title'], book['year'])\n",
    "        # Specify the subseries\n",
    "        my_book.subseries = book['subseries']\n",
    "    else:\n",
    "        # create a Book instance with title, author and year\n",
    "        my_book = Book(book['title'], book['author'], book['year'])\n",
    "    \n",
    "    # if the language is not English (the default, class attribute), change it\n",
    "    if book['language'] != \"English\":\n",
    "        my_book.language = book['language']\n",
    "        \n",
    "    # go through each character in the 'main_characters' key and add it to the book\n",
    "    for character in book['main_characters']:\n",
    "        my_book.add_character(character)\n",
    "        \n",
    "    # print the book contents\n",
    "    print(my_book)\n",
    "    \n",
    "    # print a separating line between books\n",
    "    print('----')"
   ]
  }
 ],
 "metadata": {
  "kernelspec": {
   "display_name": "Python 3 (ipykernel)",
   "language": "python",
   "name": "python3"
  },
  "language_info": {
   "codemirror_mode": {
    "name": "ipython",
    "version": 3
   },
   "file_extension": ".py",
   "mimetype": "text/x-python",
   "name": "python",
   "nbconvert_exporter": "python",
   "pygments_lexer": "ipython3",
   "version": "3.9.13"
  }
 },
 "nbformat": 4,
 "nbformat_minor": 5
}
